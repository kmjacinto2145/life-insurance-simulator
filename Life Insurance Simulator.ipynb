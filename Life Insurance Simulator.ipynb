{
 "cells": [
  {
   "cell_type": "code",
   "execution_count": 60,
   "metadata": {},
   "outputs": [],
   "source": [
    "import numpy as np\n",
    "import pandas as pd\n",
    "import matplotlib.pyplot as plt\n",
    "import seaborn as sns\n",
    "%matplotlib inline\n",
    "import scipy"
   ]
  },
  {
   "cell_type": "code",
   "execution_count": 73,
   "metadata": {},
   "outputs": [],
   "source": [
    "flt = pd.read_csv(\"FrenchTable.csv\")\n",
    "amlt = pd.read_csv(\"AusMaleTables.csv\")\n",
    "aflt = pd.read_csv(\"AusFemaleTables.csv\")"
   ]
  },
  {
   "cell_type": "code",
   "execution_count": 22,
   "metadata": {},
   "outputs": [],
   "source": [
    "def simulate_life(start_age, life_table):\n",
    "    age = start_age\n",
    "    dead = False\n",
    "    while not dead:\n",
    "        died_during_year = np.random.binomial(n = 1, p = flt[flt['Age'] == age]['qx'])[0]\n",
    "        if died_during_year == 1:\n",
    "            dead = True\n",
    "        else:\n",
    "            age += 1\n",
    "    \n",
    "    return age"
   ]
  },
  {
   "cell_type": "code",
   "execution_count": 46,
   "metadata": {},
   "outputs": [],
   "source": [
    "def whole_life_insurance_premium(start_age, life_table, interest_rate, principal = 1):\n",
    "    return principal * (1 - (1 - 1 / (1 + interest_rate)) * life_annuity_premium(start_age, life_table, interest_rate, \"due\"))"
   ]
  },
  {
   "cell_type": "code",
   "execution_count": 53,
   "metadata": {},
   "outputs": [],
   "source": [
    "def life_annuity_premium(start_age, life_table, interest_rate, annuity_type = \"due\", payout = 1):\n",
    "    x = start_age\n",
    "    \n",
    "    if annuity_type == \"due\":\n",
    "        t = 0\n",
    "    elif annuity_type == \"immediate\":\n",
    "        t = 1\n",
    "    else:\n",
    "        raise ValueError(\"Incorrect value for annuity_type. Needs to be either 'due' or 'immediate'\")\n",
    "     \n",
    "    value = 0\n",
    "    \n",
    "    while start_age + t < max(life_table['Age']):\n",
    "        value += v(interest_rate, t) * tpx(start_age, t, life_table)\n",
    "        t += 1\n",
    "        \n",
    "    return value * payout"
   ]
  },
  {
   "cell_type": "code",
   "execution_count": 48,
   "metadata": {},
   "outputs": [],
   "source": [
    "def tpx(x, t, life_table):\n",
    "    \n",
    "    tpx = 1\n",
    "    \n",
    "    for i in range(t):\n",
    "        tpx *= (1 - life_table[life_table['Age'] == x + i]['qx'].item())\n",
    "        \n",
    "    return tpx"
   ]
  },
  {
   "cell_type": "code",
   "execution_count": 50,
   "metadata": {},
   "outputs": [],
   "source": [
    "def tqx(x, t, life_table):\n",
    "    return 1 - tpx(x, t, life_table)"
   ]
  },
  {
   "cell_type": "code",
   "execution_count": 72,
   "metadata": {},
   "outputs": [],
   "source": [
    "def v(i, t = 1):\n",
    "    return 1 / (1 + i) ** t"
   ]
  },
  {
   "cell_type": "code",
   "execution_count": 64,
   "metadata": {},
   "outputs": [],
   "source": [
    "def simulate_life_insurance(start_age, life_table, interest_rate, principal = 1, life = True, term = 20):\n",
    "    x = start_age\n",
    "    dead = False\n",
    "    accumulated_premiums = []    \n",
    "    P = whole_life_insurance_premium(start_age, life_table, interest_rate, principal)\n",
    "    \n",
    "    if life:    \n",
    "        while not dead:\n",
    "            accumulated_premiums.append(P)\n",
    "            died_during_year = np.random.binomial(n = 1, p = flt[flt['Age'] == x]['qx'])[0]\n",
    "            if died_during_year == 1:\n",
    "                dead = True\n",
    "                age = x\n",
    "            else:\n",
    "                x += 1\n",
    "    \n",
    "    else:\n",
    "        t = 0\n",
    "        while not dead and t < term:\n",
    "            accumulated_premiums.append(P)\n",
    "            died_during_year = np.random.binomial(n = 1, p = flt[flt['Age'] == x + t]['qx'])[0]\n",
    "            if died_during_year == 1:\n",
    "                dead = True\n",
    "                age = x + t\n",
    "            else:\n",
    "                t += 1   \n",
    "    \n",
    "    for t in range(len(accumulated_premiums)):\n",
    "        accumulated_premiums[t] *= v(interest_rate, t)\n",
    "\n",
    "    print(\"The policyholder died at age %d.\" % age)\n",
    "    print(\"Present value of premiums: %.2lf\" % sum(accumulated_premiums))\n",
    "    \n",
    "    '''\n",
    "    if sum(accumulated_premiums) > principal:\n",
    "        print(\"You made a gain of %.2lf\" % sum(accumulated_premiums) - principal)\n",
    "    elif sum(accumulated_premiums) == principal:\n",
    "        print(\"You have not made a gain or loss.\")\n",
    "    else:\n",
    "        print(\"You made a loss of %.2lf\" % principal - sum(accumulated_premiums))\n",
    "    \n",
    "    '''\n",
    "        \n",
    "    return "
   ]
  },
  {
   "cell_type": "code",
   "execution_count": 70,
   "metadata": {},
   "outputs": [],
   "source": [
    "def pure_endowment_premium(start_age, life_table, interest_rate, principal = 1, term = 20):\n",
    "    return v(interest_rate, term) * tpx(start_age, term, life_table)"
   ]
  },
  {
   "cell_type": "code",
   "execution_count": 89,
   "metadata": {},
   "outputs": [
    {
     "name": "stdout",
     "output_type": "stream",
     "text": [
      "The policyholder died at age 66.\n",
      "Present value of premiums: 60751.96\n"
     ]
    }
   ],
   "source": [
    "simulate_life_insurance(0, amlt, 0.05, 100000)"
   ]
  },
  {
   "cell_type": "code",
   "execution_count": null,
   "metadata": {},
   "outputs": [],
   "source": []
  }
 ],
 "metadata": {
  "kernelspec": {
   "display_name": "data2",
   "language": "python",
   "name": "data2"
  },
  "language_info": {
   "codemirror_mode": {
    "name": "ipython",
    "version": 3
   },
   "file_extension": ".py",
   "mimetype": "text/x-python",
   "name": "python",
   "nbconvert_exporter": "python",
   "pygments_lexer": "ipython3",
   "version": "3.7.7"
  }
 },
 "nbformat": 4,
 "nbformat_minor": 4
}
